{
 "cells": [
  {
   "cell_type": "markdown",
   "metadata": {
    "id": "zSuyk4fHcpRi"
   },
   "source": [
    "### Reading Data From Kaggle"
   ]
  },
  {
   "cell_type": "code",
   "execution_count": 1,
   "metadata": {
    "colab": {
     "base_uri": "https://localhost:8080/"
    },
    "id": "uZjUAQxwt4zU",
    "outputId": "6439c034-30d1-4ecc-d2ff-e3583daea2c9"
   },
   "outputs": [
    {
     "name": "stdout",
     "output_type": "stream",
     "text": [
      "/Users/patriciaporal/Downloads/archive\n"
     ]
    }
   ],
   "source": [
    "cd /Users/patriciaporal/Downloads/archive"
   ]
  },
  {
   "cell_type": "code",
   "execution_count": 2,
   "metadata": {
    "colab": {
     "base_uri": "https://localhost:8080/",
     "height": 414
    },
    "id": "tnDloUI9uQVg",
    "outputId": "5a97e5c3-47bf-44ec-a0dc-e617d2d802e6",
    "scrolled": true
   },
   "outputs": [],
   "source": [
    "# Import libraries\n",
    "import pandas as pd\n",
    "import sklearn\n",
    "from sklearn.decomposition import TruncatedSVD\n",
    "import numpy as np\n",
    "import dill"
   ]
  },
  {
   "cell_type": "code",
   "execution_count": 3,
   "metadata": {},
   "outputs": [],
   "source": [
    "# Read data set\n",
    "orders = pd.read_csv('orders.csv')\n",
    "order_items = pd.read_csv('orders_items.csv')\n",
    "products = pd.read_csv('products.csv')"
   ]
  },
  {
   "cell_type": "code",
   "execution_count": 4,
   "metadata": {
    "scrolled": true
   },
   "outputs": [
    {
     "name": "stderr",
     "output_type": "stream",
     "text": [
      "/opt/anaconda3/lib/python3.8/site-packages/pandas/core/frame.py:4296: SettingWithCopyWarning: \n",
      "A value is trying to be set on a copy of a slice from a DataFrame\n",
      "\n",
      "See the caveats in the documentation: https://pandas.pydata.org/pandas-docs/stable/user_guide/indexing.html#returning-a-view-versus-a-copy\n",
      "  return super().rename(\n",
      "<ipython-input-4-209952b2833a>:5: SettingWithCopyWarning: \n",
      "A value is trying to be set on a copy of a slice from a DataFrame.\n",
      "Try using .loc[row_indexer,col_indexer] = value instead\n",
      "\n",
      "See the caveats in the documentation: https://pandas.pydata.org/pandas-docs/stable/user_guide/indexing.html#returning-a-view-versus-a-copy\n",
      "  items['product_id'] = items['product_id'].astype(str)\n",
      "<ipython-input-4-209952b2833a>:6: SettingWithCopyWarning: \n",
      "A value is trying to be set on a copy of a slice from a DataFrame.\n",
      "Try using .loc[row_indexer,col_indexer] = value instead\n",
      "\n",
      "See the caveats in the documentation: https://pandas.pydata.org/pandas-docs/stable/user_guide/indexing.html#returning-a-view-versus-a-copy\n",
      "  items['product_id'] = items['product_id'].str.split('.').str[0]\n"
     ]
    }
   ],
   "source": [
    "# Data Cleaning\n",
    "file = orders[['id','customer_id','total_line_items_price']]\n",
    "items = order_items[['order_id','product_id','price','quantity']]\n",
    "items.rename(columns = {'order_id':'id'}, inplace = True)\n",
    "items['product_id'] = items['product_id'].astype(str)\n",
    "items['product_id'] = items['product_id'].str.split('.').str[0]\n",
    "cols = ['id']\n",
    "file = file.join(items.set_index(cols), on=cols)\n",
    "products = products.drop(['title','created_at','published_at'], axis = 1)\n",
    "products.rename(columns = {'id':'product_id'}, inplace = True)\n",
    "products['product_id'] = products['product_id'].astype(str)\n",
    "cols = ['product_id']\n",
    "file = file.join(products.set_index(cols), on=cols)\n",
    "file['product_type'] = file['product_type'].str.lower()\n",
    "file.loc[(file.product_type == 'hooide'),'product_type']='hoodie'\n",
    "file.loc[(file.product_type == 'tousers'),'product_type']='trousers'"
   ]
  },
  {
   "cell_type": "code",
   "execution_count": 5,
   "metadata": {},
   "outputs": [],
   "source": [
    "summary = file.groupby('product_id').agg(orders=('id', 'nunique'), quantity=('quantity', 'sum')).sort_values(by='orders', ascending=False)"
   ]
  },
  {
   "cell_type": "code",
   "execution_count": 6,
   "metadata": {
    "scrolled": true
   },
   "outputs": [
    {
     "data": {
      "text/html": [
       "<div>\n",
       "<style scoped>\n",
       "    .dataframe tbody tr th:only-of-type {\n",
       "        vertical-align: middle;\n",
       "    }\n",
       "\n",
       "    .dataframe tbody tr th {\n",
       "        vertical-align: top;\n",
       "    }\n",
       "\n",
       "    .dataframe thead th {\n",
       "        text-align: right;\n",
       "    }\n",
       "</style>\n",
       "<table border=\"1\" class=\"dataframe\">\n",
       "  <thead>\n",
       "    <tr style=\"text-align: right;\">\n",
       "      <th></th>\n",
       "      <th>orders</th>\n",
       "      <th>quantity</th>\n",
       "    </tr>\n",
       "    <tr>\n",
       "      <th>product_id</th>\n",
       "      <th></th>\n",
       "      <th></th>\n",
       "    </tr>\n",
       "  </thead>\n",
       "  <tbody>\n",
       "    <tr>\n",
       "      <th>12927690655</th>\n",
       "      <td>1539</td>\n",
       "      <td>1592</td>\n",
       "    </tr>\n",
       "    <tr>\n",
       "      <th>12927632799</th>\n",
       "      <td>1099</td>\n",
       "      <td>1134</td>\n",
       "    </tr>\n",
       "    <tr>\n",
       "      <th>12927629215</th>\n",
       "      <td>1078</td>\n",
       "      <td>1125</td>\n",
       "    </tr>\n",
       "    <tr>\n",
       "      <th>12927625695</th>\n",
       "      <td>906</td>\n",
       "      <td>968</td>\n",
       "    </tr>\n",
       "    <tr>\n",
       "      <th>375446541821</th>\n",
       "      <td>757</td>\n",
       "      <td>900</td>\n",
       "    </tr>\n",
       "    <tr>\n",
       "      <th>...</th>\n",
       "      <td>...</td>\n",
       "      <td>...</td>\n",
       "    </tr>\n",
       "    <tr>\n",
       "      <th>1183022388733</th>\n",
       "      <td>6</td>\n",
       "      <td>6</td>\n",
       "    </tr>\n",
       "    <tr>\n",
       "      <th>1183021864445</th>\n",
       "      <td>5</td>\n",
       "      <td>6</td>\n",
       "    </tr>\n",
       "    <tr>\n",
       "      <th>1183021929981</th>\n",
       "      <td>4</td>\n",
       "      <td>4</td>\n",
       "    </tr>\n",
       "    <tr>\n",
       "      <th>353352455677</th>\n",
       "      <td>3</td>\n",
       "      <td>6</td>\n",
       "    </tr>\n",
       "    <tr>\n",
       "      <th>1183022257661</th>\n",
       "      <td>2</td>\n",
       "      <td>2</td>\n",
       "    </tr>\n",
       "  </tbody>\n",
       "</table>\n",
       "<p>243 rows × 2 columns</p>\n",
       "</div>"
      ],
      "text/plain": [
       "               orders  quantity\n",
       "product_id                     \n",
       "12927690655      1539      1592\n",
       "12927632799      1099      1134\n",
       "12927629215      1078      1125\n",
       "12927625695       906       968\n",
       "375446541821      757       900\n",
       "...               ...       ...\n",
       "1183022388733       6         6\n",
       "1183021864445       5         6\n",
       "1183021929981       4         4\n",
       "353352455677        3         6\n",
       "1183022257661       2         2\n",
       "\n",
       "[243 rows x 2 columns]"
      ]
     },
     "execution_count": 6,
     "metadata": {},
     "output_type": "execute_result"
    }
   ],
   "source": [
    "summary"
   ]
  },
  {
   "cell_type": "code",
   "execution_count": 7,
   "metadata": {},
   "outputs": [],
   "source": [
    "item = file.pivot_table(index='customer_id', columns=['product_id'], values='quantity').fillna(0)"
   ]
  },
  {
   "cell_type": "code",
   "execution_count": 8,
   "metadata": {},
   "outputs": [],
   "source": [
    "transposed_item = item.T"
   ]
  },
  {
   "cell_type": "code",
   "execution_count": 9,
   "metadata": {},
   "outputs": [],
   "source": [
    "transposed = transposed_item"
   ]
  },
  {
   "cell_type": "code",
   "execution_count": 10,
   "metadata": {},
   "outputs": [],
   "source": [
    "SVD = TruncatedSVD(n_components=10)\n",
    "decomposed_matrix = SVD.fit_transform(transposed_item)"
   ]
  },
  {
   "cell_type": "code",
   "execution_count": 11,
   "metadata": {
    "scrolled": true
   },
   "outputs": [],
   "source": [
    "correlation_matrix = np.corrcoef(decomposed_matrix)"
   ]
  },
  {
   "cell_type": "code",
   "execution_count": 12,
   "metadata": {},
   "outputs": [],
   "source": [
    "def recommend_item(i):\n",
    "    item=[]\n",
    "    product_id = list(transposed_item.index)\n",
    "    product_ID = product_id.index(i)\n",
    "    correlation_product_ID = correlation_matrix[product_ID]\n",
    "    Recommend = list(transposed_item.index[correlation_product_ID > 0.90])\n",
    "    Recommend.remove(i)\n",
    "    a = Recommend[0:3]\n",
    "    #b = products.loc[products['product_id'] == a[0]]\n",
    "    for i in range(len(a)):\n",
    "        item.append(products.loc[products['product_id'] == a[i]])\n",
    "    print(pd.concat(item))"
   ]
  },
  {
   "cell_type": "code",
   "execution_count": 13,
   "metadata": {},
   "outputs": [],
   "source": [
    "filename = 'initial_recommender.pickle'\n",
    "dill.dump(recommend_item, open(filename, 'wb'))"
   ]
  },
  {
   "cell_type": "code",
   "execution_count": 14,
   "metadata": {
    "scrolled": true
   },
   "outputs": [
    {
     "name": "stdout",
     "output_type": "stream",
     "text": [
      "       product_id product_type\n",
      "80  1007443056125       Blouse\n",
      "83  1007443187197         mini\n",
      "86  1007443219965       Jacket\n"
     ]
    }
   ],
   "source": [
    "recommend_item('1007443645949')"
   ]
  }
 ],
 "metadata": {
  "colab": {
   "collapsed_sections": [],
   "name": "Copy of Copy of RecommendationSystem.ipynb",
   "provenance": []
  },
  "kernelspec": {
   "display_name": "Python 3",
   "language": "python",
   "name": "python3"
  },
  "language_info": {
   "codemirror_mode": {
    "name": "ipython",
    "version": 3
   },
   "file_extension": ".py",
   "mimetype": "text/x-python",
   "name": "python",
   "nbconvert_exporter": "python",
   "pygments_lexer": "ipython3",
   "version": "3.7.5"
  }
 },
 "nbformat": 4,
 "nbformat_minor": 1
}
